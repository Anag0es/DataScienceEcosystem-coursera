{
  "metadata": {
    "kernelspec": {
      "name": "python",
      "display_name": "Python (Pyodide)",
      "language": "python"
    },
    "language_info": {
      "codemirror_mode": {
        "name": "python",
        "version": 3
      },
      "file_extension": ".py",
      "mimetype": "text/x-python",
      "name": "python",
      "nbconvert_exporter": "python",
      "pygments_lexer": "ipython3",
      "version": "3.8"
    }
  },
  "nbformat_minor": 4,
  "nbformat": 4,
  "cells": [
    {
      "cell_type": "markdown",
      "source": "# Data Science Tools and Ecosystem",
      "metadata": {}
    },
    {
      "cell_type": "markdown",
      "source": "In this notebook, Data Science Tools and Ecosystem are summarized.",
      "metadata": {}
    },
    {
      "cell_type": "markdown",
      "source": "## Objetivos\r\n1. Explorar conceitos fundamentais de ciência de dados.\r\n2. Utilizar diversas ferramentas e bibliotecas populares.\r\n3. Aplicar expressões aritméticas em exemplos práticos.\r\n",
      "metadata": {}
    },
    {
      "cell_type": "markdown",
      "source": "## Linguagens de Ciência de Dados\n- Python\n- R\n- Julia\n- SQL\n",
      "metadata": {}
    },
    {
      "cell_type": "markdown",
      "source": "## Bibliotecas de Ciência de Dados\n- Pandas\n- NumPy\n- Matplotlib\n- Seaborn\n- Scikit-learn\n",
      "metadata": {}
    },
    {
      "cell_type": "markdown",
      "source": "## Ferramentas de Ciência de Dados\n\n| Ferramenta         | Descrição                              |\n|---------------------|----------------------------------------|\n| Jupyter Notebooks   | Ambiente interativo para análise de dados|\n| TensorFlow         | Biblioteca para machine learning        |\n| Tableau            | Ferramenta de visualização de dados     |\n",
      "metadata": {}
    },
    {
      "cell_type": "markdown",
      "source": "## Expressões Aritméticas\n\n### Below are a few examples of evaluating arithmetic expressions in Python:\r\n- Adição: 8 + 12\r\n- Divisão: 20 / 4\r\n- Multiplicação: 6 * 7",
      "metadata": {}
    },
    {
      "cell_type": "code",
      "source": "# esta é uma expressão aritmética simples para mutiply e, em seguida, adicionar inteiros\nprint((3*4)+5)\n",
      "metadata": {
        "trusted": true
      },
      "outputs": [
        {
          "name": "stdout",
          "text": "17\n",
          "output_type": "stream"
        }
      ],
      "execution_count": 4
    },
    {
      "cell_type": "code",
      "source": "# Convertendo minutos em horas\n# isso converterá 200 minutos em horas mergulhando em 60\nminutos = 200\nhoras = minutos / 60\nhoras\n",
      "metadata": {
        "trusted": true
      },
      "outputs": [
        {
          "execution_count": 2,
          "output_type": "execute_result",
          "data": {
            "text/plain": "3.3333333333333335"
          },
          "metadata": {}
        }
      ],
      "execution_count": 2
    },
    {
      "cell_type": "markdown",
      "source": "## Autor\nAna Luisa Goes\n",
      "metadata": {}
    },
    {
      "cell_type": "code",
      "source": "",
      "metadata": {
        "trusted": true
      },
      "outputs": [],
      "execution_count": null
    }
  ]
}